{
 "cells": [
  {
   "cell_type": "code",
   "execution_count": 599,
   "metadata": {},
   "outputs": [],
   "source": [
    "import sys\n",
    "import pandas as pd\n",
    "import numpy as np\n",
    "import math\n",
    "import pickle\n",
    "from sklearn import datasets\n",
    "\n",
    "class DecisionNode:\n",
    "    def __init__(self, depth = 0, max_depth = -1, min_leaf = 1):\n",
    "        self._left_child = None\n",
    "        self._right_child = None\n",
    "        self._depth = depth\n",
    "        self._max_depth = max_depth\n",
    "        self.min_leaf = min_leaf\n",
    "        \n",
    "    def _divide(self, data_set, column, condition):\n",
    "        if isinstance(condition, str):\n",
    "            part_a = data_set[data_set[column] == condition]\n",
    "            part_b = data_set[data_set[column] != condition]\n",
    "        else:\n",
    "            part_a = data_set[data_set[column] >= condition]\n",
    "            part_b = data_set[data_set[column] < condition]\n",
    "        return part_a, part_b\n",
    "    \n",
    "    def _entropy(self, labels):\n",
    "        counts = labels.value_counts()\n",
    "        total = sum(counts)\n",
    "        entropy = -counts.map(lambda c: (c/total) * math.log2(c/total)).sum()\n",
    "        return entropy\n",
    "    \n",
    "    def _entropy_sum(self, set_a, set_b):\n",
    "        size_a = set_a.shape[0]\n",
    "        size_b = set_b.shape[0]\n",
    "        total = size_a + size_b\n",
    "        total_entropy = size_a / total * self._entropy(set_a) + size_b / total * self._entropy(set_b)\n",
    "        return total_entropy\n",
    "    \n",
    "    def _information_gain(self,data_set, column, condition):\n",
    "        set_a, set_b = self._divide(data_set, column, condition)\n",
    "        gain = self._entropy(data_set.iloc[:, -1]) - self._entropy_sum(set_a.iloc[:,-1], set_b.iloc[:,-1])\n",
    "        return gain\n",
    "    \n",
    "    def fit(self, data_set, selected_features = None):\n",
    "        if selected_features is None:\n",
    "            columns = data_set.columns.values.tolist()\n",
    "            selected_features = columns[:-1]\n",
    "        \n",
    "        best_gain = 0\n",
    "        best_split_col = None\n",
    "        best_split_value = None\n",
    "\n",
    "        for column_name in selected_features:\n",
    "            current_column = data_set[column_name]\n",
    "            unique_values = current_column.unique().tolist()\n",
    "            for value in unique_values:\n",
    "                gain = self._information_gain(data_set, column_name, value)\n",
    "                if gain > best_gain:\n",
    "                    best_gain = gain\n",
    "                    best_split_col = column_name\n",
    "                    best_split_value = value\n",
    "                    \n",
    "        self._best_split_col = best_split_col\n",
    "        self._best_split_value = best_split_value\n",
    "        \n",
    "        if best_gain > 0 and (self._max_depth == -1 or self._depth < self._max_depth):\n",
    "            set_a, set_b = self._divide(data_set, best_split_col, best_split_value)\n",
    "            if set_b.shape[0] >= self.min_leaf & set_a.shape[0] >= self.min_leaf:\n",
    "                self._left_child = DecisionNode(self._depth + 1, self._max_depth, self.min_leaf)\n",
    "                self._left_child.fit(set_a)\n",
    "\n",
    "                self._right_child = DecisionNode(self._depth + 1, self._max_depth, self.min_leaf)\n",
    "                self._right_child.fit(set_b)\n",
    "            else:\n",
    "#                 self._leaf_value = (data_set.iloc[:,-1].value_counts()[data_set.iloc[:,-1].value_counts() == data_set.iloc[:,-1].value_counts().max()].sample(1)).index[0]\n",
    "                self._leaf_value = data_set.iloc[:,-1].value_counts()[data_set.iloc[:,-1].value_counts() == data_set.iloc[:,-1].value_counts().max()].index[0]\n",
    "                    \n",
    "            \n",
    "        else:\n",
    "            self._leaf_value = (data_set.iloc[:,-1].value_counts()[data_set.iloc[:,-1].value_counts() == data_set.iloc[:,-1].value_counts().max()].sample(1)).index[0]\n",
    "#             self._leaf_value = data_set.iloc[:,-1].value_counts()[data_set.iloc[:,-1].value_counts() == data_set.iloc[:,-1].value_counts().max()].index[0]\n",
    "            \n",
    "    def predict_single(self, record):\n",
    "        if self._left_child is None and self._right_child is None:\n",
    "            return self._leaf_value\n",
    "        else:\n",
    "            if isinstance(self._best_split_value, str):\n",
    "                go_left = record[self._best_split_col] == self._best_split_value\n",
    "            else:\n",
    "                go_left = record[self._best_split_col] >= self._best_split_value\n",
    "                \n",
    "            if go_left:\n",
    "                return self._left_child.predict_single(record)\n",
    "            else:\n",
    "                return self._right_child.predict_single(record)\n",
    "    \n",
    "    def predict(self, data_set):\n",
    "        return data_set.apply(self.predict_single, axis=1)\n",
    "        \n",
    "    \n",
    "    def __repr__(self):\n",
    "        tree_str = '\\t' * self._depth + '>'\n",
    "        if self._left_child == None and self._right_child == None:\n",
    "            tree_str += 'LEAF: {}\\n'.format(self._leaf_value)\n",
    "        else:\n",
    "            tree_str += \"Split {} on {}\\n\".format(self._best_split_col, self._best_split_value)\n",
    "            tree_str += str(self._left_child)\n",
    "            tree_str += str(self._right_child)\n",
    "        return tree_str\n",
    "\n"
   ]
  },
  {
   "cell_type": "code",
   "execution_count": 221,
   "metadata": {},
   "outputs": [],
   "source": [
    "data_set_raw = datasets.load_iris()"
   ]
  },
  {
   "cell_type": "code",
   "execution_count": 228,
   "metadata": {},
   "outputs": [],
   "source": [
    "X = pd.DataFrame(data_set_raw.data)\n",
    "X.columns = ['sepal_length', 'sepal_width', 'petal_length', 'petal_width']\n",
    "y = pd.DataFrame(data_set_raw.target)\n",
    "y.columns = ['iris_type']\n",
    "X['iris_type'] = y\n",
    "data_set = X"
   ]
  },
  {
   "cell_type": "code",
   "execution_count": 619,
   "metadata": {},
   "outputs": [
    {
     "data": {
      "text/plain": [
       "0     Cat\n",
       "1     Cat\n",
       "2     Cat\n",
       "3     Cat\n",
       "4     Cat\n",
       "5     Cat\n",
       "6     Cat\n",
       "7     Cat\n",
       "8     Cat\n",
       "9     Cat\n",
       "10    Dog\n",
       "11    Dog\n",
       "12    Dog\n",
       "13    Dog\n",
       "14    Dog\n",
       "15    Cat\n",
       "16    Cat\n",
       "dtype: object"
      ]
     },
     "execution_count": 619,
     "metadata": {},
     "output_type": "execute_result"
    }
   ],
   "source": [
    "# selected_rows = np.random.choice(data_set.shape[0] - 1, int(data_set.shape[0] / 3))\n",
    "selected_rows = np.arange(0, 17, 1)\n",
    "# selected_features = np.random.choice(data_set.columns.tolist()[:-1], int(np.ceil(np.sqrt(int(data_set.shape[1])))), replace=False)\n",
    "selected_features = ['Weight', 'Height']\n",
    "decision_tree = DecisionNode(max_depth = 40, min_leaf = 1)\n",
    "decision_tree.fit(data_set.iloc[selected_rows,:], selected_features)\n",
    "predict = decision_tree.predict(data_set)\n",
    "predict"
   ]
  },
  {
   "cell_type": "code",
   "execution_count": 563,
   "metadata": {},
   "outputs": [
    {
     "data": {
      "text/plain": [
       "array(['Height', 'Weight'], dtype='<U6')"
      ]
     },
     "execution_count": 563,
     "metadata": {},
     "output_type": "execute_result"
    }
   ],
   "source": [
    "selected_features = np.random.choice(data_set.columns.tolist()[:-1], int(np.ceil(np.sqrt(int(data_set.shape[1])))), replace=False)\n",
    "selected_features"
   ]
  },
  {
   "cell_type": "code",
   "execution_count": 600,
   "metadata": {},
   "outputs": [
    {
     "data": {
      "text/plain": [
       "<matplotlib.axes._subplots.AxesSubplot at 0x216667e6828>"
      ]
     },
     "execution_count": 600,
     "metadata": {},
     "output_type": "execute_result"
    },
    {
     "data": {
      "image/png": "[encoded data removed]",
      "text/plain": [
       "<Figure size 432x288 with 1 Axes>"
      ]
     },
     "metadata": {
      "needs_background": "light"
     },
     "output_type": "display_data"
    }
   ],
   "source": [
    "data = pd.DataFrame([#Standard cats\n",
    "                     ['Cat', 4.7, 81], \n",
    "                     ['Cat', 3.1, 23], \n",
    "                     ['Cat', 2.3, 84], \n",
    "                     ['Cat', 1.2, 22], \n",
    "                     ['Cat', 3.3, 19], \n",
    "                     ['Cat', 2.7, 90],\n",
    "                     ['Cat', 4.1, 76],\n",
    "                     ['Cat', 3.2, 34],\n",
    "                     #Fat cats\n",
    "                     #['Cat', 6.1, 23],\n",
    "                     ['Cat', 8.2, 34],\n",
    "                     ['Cat', 7.6, 19],\n",
    "                     #Dogs\n",
    "                     ['Dog', 6.4, 74],\n",
    "                     ['Dog', 7.6, 72],\n",
    "                     ['Dog', 5.8, 56],\n",
    "                     ['Dog', 9.1, 102],\n",
    "                     ['Dog', 10.2, 96],\n",
    "                     #Fat Dogs\n",
    "                     ['Dog', 9.1, 32],\n",
    "                     ['Dog', 10.2, 26]],\n",
    "                    columns = ['Species', 'Weight', 'Height'])\n",
    "\n",
    "data_set = data[['Weight', 'Height','Species']]\n",
    "\n",
    "data.plot.scatter(x='Weight', y='Height', c=np.where(data.Species=='Cat','red','black'))"
   ]
  },
  {
   "cell_type": "code",
   "execution_count": 274,
   "metadata": {},
   "outputs": [
    {
     "data": {
      "text/html": [
       "<div>\n",
       "<style scoped>\n",
       "    .dataframe tbody tr th:only-of-type {\n",
       "        vertical-align: middle;\n",
       "    }\n",
       "\n",
       "    .dataframe tbody tr th {\n",
       "        vertical-align: top;\n",
       "    }\n",
       "\n",
       "    .dataframe thead th {\n",
       "        text-align: right;\n",
       "    }\n",
       "</style>\n",
       "<table border=\"1\" class=\"dataframe\">\n",
       "  <thead>\n",
       "    <tr style=\"text-align: right;\">\n",
       "      <th></th>\n",
       "      <th>Weight</th>\n",
       "      <th>Height</th>\n",
       "      <th>Species</th>\n",
       "    </tr>\n",
       "  </thead>\n",
       "  <tbody>\n",
       "    <tr>\n",
       "      <th>0</th>\n",
       "      <td>4.7</td>\n",
       "      <td>81</td>\n",
       "      <td>Cat</td>\n",
       "    </tr>\n",
       "    <tr>\n",
       "      <th>1</th>\n",
       "      <td>3.1</td>\n",
       "      <td>23</td>\n",
       "      <td>Cat</td>\n",
       "    </tr>\n",
       "    <tr>\n",
       "      <th>2</th>\n",
       "      <td>2.3</td>\n",
       "      <td>84</td>\n",
       "      <td>Cat</td>\n",
       "    </tr>\n",
       "    <tr>\n",
       "      <th>3</th>\n",
       "      <td>1.2</td>\n",
       "      <td>22</td>\n",
       "      <td>Cat</td>\n",
       "    </tr>\n",
       "    <tr>\n",
       "      <th>4</th>\n",
       "      <td>3.3</td>\n",
       "      <td>19</td>\n",
       "      <td>Cat</td>\n",
       "    </tr>\n",
       "    <tr>\n",
       "      <th>5</th>\n",
       "      <td>2.7</td>\n",
       "      <td>90</td>\n",
       "      <td>Cat</td>\n",
       "    </tr>\n",
       "    <tr>\n",
       "      <th>6</th>\n",
       "      <td>4.1</td>\n",
       "      <td>76</td>\n",
       "      <td>Cat</td>\n",
       "    </tr>\n",
       "    <tr>\n",
       "      <th>7</th>\n",
       "      <td>3.2</td>\n",
       "      <td>34</td>\n",
       "      <td>Cat</td>\n",
       "    </tr>\n",
       "    <tr>\n",
       "      <th>8</th>\n",
       "      <td>8.2</td>\n",
       "      <td>34</td>\n",
       "      <td>Cat</td>\n",
       "    </tr>\n",
       "    <tr>\n",
       "      <th>9</th>\n",
       "      <td>7.6</td>\n",
       "      <td>19</td>\n",
       "      <td>Cat</td>\n",
       "    </tr>\n",
       "    <tr>\n",
       "      <th>10</th>\n",
       "      <td>6.4</td>\n",
       "      <td>74</td>\n",
       "      <td>Dog</td>\n",
       "    </tr>\n",
       "    <tr>\n",
       "      <th>11</th>\n",
       "      <td>7.6</td>\n",
       "      <td>72</td>\n",
       "      <td>Dog</td>\n",
       "    </tr>\n",
       "    <tr>\n",
       "      <th>12</th>\n",
       "      <td>5.8</td>\n",
       "      <td>56</td>\n",
       "      <td>Dog</td>\n",
       "    </tr>\n",
       "    <tr>\n",
       "      <th>13</th>\n",
       "      <td>9.1</td>\n",
       "      <td>102</td>\n",
       "      <td>Dog</td>\n",
       "    </tr>\n",
       "    <tr>\n",
       "      <th>14</th>\n",
       "      <td>10.2</td>\n",
       "      <td>96</td>\n",
       "      <td>Dog</td>\n",
       "    </tr>\n",
       "  </tbody>\n",
       "</table>\n",
       "</div>"
      ],
      "text/plain": [
       "    Weight  Height Species\n",
       "0      4.7      81     Cat\n",
       "1      3.1      23     Cat\n",
       "2      2.3      84     Cat\n",
       "3      1.2      22     Cat\n",
       "4      3.3      19     Cat\n",
       "5      2.7      90     Cat\n",
       "6      4.1      76     Cat\n",
       "7      3.2      34     Cat\n",
       "8      8.2      34     Cat\n",
       "9      7.6      19     Cat\n",
       "10     6.4      74     Dog\n",
       "11     7.6      72     Dog\n",
       "12     5.8      56     Dog\n",
       "13     9.1     102     Dog\n",
       "14    10.2      96     Dog"
      ]
     },
     "execution_count": 274,
     "metadata": {},
     "output_type": "execute_result"
    }
   ],
   "source": []
  },
  {
   "cell_type": "code",
   "execution_count": 208,
   "metadata": {},
   "outputs": [
    {
     "data": {
      "text/plain": [
       "1"
      ]
     },
     "execution_count": 208,
     "metadata": {},
     "output_type": "execute_result"
    }
   ],
   "source": [
    "(data_set.iloc[0:120,-1].value_counts()[data_set.iloc[:,-1].value_counts() == data_set.iloc[:,-1].value_counts().max()].sample(1)).index[0]"
   ]
  },
  {
   "cell_type": "code",
   "execution_count": null,
   "metadata": {},
   "outputs": [],
   "source": []
  },
  {
   "cell_type": "code",
   "execution_count": 56,
   "metadata": {},
   "outputs": [
    {
     "data": {
      "text/plain": [
       "3.0"
      ]
     },
     "execution_count": 56,
     "metadata": {},
     "output_type": "execute_result"
    }
   ],
   "source": []
  }
 ],
 "metadata": {
  "kernelspec": {
   "display_name": "Python 3",
   "language": "python",
   "name": "python3"
  },
  "language_info": {
   "codemirror_mode": {
    "name": "ipython",
    "version": 3
   },
   "file_extension": ".py",
   "mimetype": "text/x-python",
   "name": "python",
   "nbconvert_exporter": "python",
   "pygments_lexer": "ipython3",
   "version": "3.7.3"
  }
 },
 "nbformat": 4,
 "nbformat_minor": 2
}
